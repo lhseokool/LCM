{
 "cells": [
  {
   "cell_type": "code",
   "execution_count": 16,
   "metadata": {},
   "outputs": [],
   "source": [
    "import torch\n",
    "from pytorch_fid2 import fid_score, inception"
   ]
  },
  {
   "cell_type": "code",
   "execution_count": 17,
   "metadata": {},
   "outputs": [
    {
     "name": "stdout",
     "output_type": "stream",
     "text": [
      "Warning: batch size is bigger than the data size. Setting batch size to data size\n"
     ]
    },
    {
     "ename": "ValueError",
     "evalue": "batch_size should be a positive integer value, but got batch_size=0",
     "output_type": "error",
     "traceback": [
      "\u001b[0;31m---------------------------------------------------------------------------\u001b[0m",
      "\u001b[0;31mValueError\u001b[0m                                Traceback (most recent call last)",
      "\u001b[1;32m/workspace/LCM/test.ipynb Cell 2\u001b[0m line \u001b[0;36m4\n\u001b[1;32m      <a href='vscode-notebook-cell://ssh-remote%2B89.187.159.32/workspace/LCM/test.ipynb#W1sdnNjb2RlLXJlbW90ZQ%3D%3D?line=1'>2</a>\u001b[0m dim \u001b[39m=\u001b[39m \u001b[39m2048\u001b[39m\n\u001b[1;32m      <a href='vscode-notebook-cell://ssh-remote%2B89.187.159.32/workspace/LCM/test.ipynb#W1sdnNjb2RlLXJlbW90ZQ%3D%3D?line=2'>3</a>\u001b[0m device \u001b[39m=\u001b[39m torch\u001b[39m.\u001b[39mdevice(\u001b[39m\"\u001b[39m\u001b[39mcuda\u001b[39m\u001b[39m\"\u001b[39m \u001b[39mif\u001b[39;00m torch\u001b[39m.\u001b[39mcuda\u001b[39m.\u001b[39mis_available() \u001b[39melse\u001b[39;00m \u001b[39m\"\u001b[39m\u001b[39mcpu\u001b[39m\u001b[39m\"\u001b[39m)\n\u001b[0;32m----> <a href='vscode-notebook-cell://ssh-remote%2B89.187.159.32/workspace/LCM/test.ipynb#W1sdnNjb2RlLXJlbW90ZQ%3D%3D?line=3'>4</a>\u001b[0m fid_value \u001b[39m=\u001b[39m fid_score\u001b[39m.\u001b[39;49mcalculate_fid_given_paths(\n\u001b[1;32m      <a href='vscode-notebook-cell://ssh-remote%2B89.187.159.32/workspace/LCM/test.ipynb#W1sdnNjb2RlLXJlbW90ZQ%3D%3D?line=4'>5</a>\u001b[0m         paths, batch_size\u001b[39m=\u001b[39;49m\u001b[39m1\u001b[39;49m, device\u001b[39m=\u001b[39;49mdevice, dims\u001b[39m=\u001b[39;49mdim, num_workers\u001b[39m=\u001b[39;49m\u001b[39m1\u001b[39;49m\n\u001b[1;32m      <a href='vscode-notebook-cell://ssh-remote%2B89.187.159.32/workspace/LCM/test.ipynb#W1sdnNjb2RlLXJlbW90ZQ%3D%3D?line=5'>6</a>\u001b[0m     )\n",
      "File \u001b[0;32m/workspace/LCM/pytorch_fid2/fid_score.py:291\u001b[0m, in \u001b[0;36mcalculate_fid_given_paths\u001b[0;34m(paths, batch_size, device, dims, num_workers)\u001b[0m\n\u001b[1;32m    287\u001b[0m block_idx \u001b[39m=\u001b[39m InceptionV3\u001b[39m.\u001b[39mBLOCK_INDEX_BY_DIM[dims]\n\u001b[1;32m    289\u001b[0m model \u001b[39m=\u001b[39m InceptionV3([block_idx])\u001b[39m.\u001b[39mto(device)\n\u001b[0;32m--> 291\u001b[0m m1, s1 \u001b[39m=\u001b[39m compute_statistics_of_path(\n\u001b[1;32m    292\u001b[0m     paths[\u001b[39m0\u001b[39;49m], model, batch_size, dims, device, num_workers\n\u001b[1;32m    293\u001b[0m )\n\u001b[1;32m    294\u001b[0m m2, s2 \u001b[39m=\u001b[39m compute_statistics_of_path(\n\u001b[1;32m    295\u001b[0m     paths[\u001b[39m1\u001b[39m], model, batch_size, dims, device, num_workers\n\u001b[1;32m    296\u001b[0m )\n\u001b[1;32m    297\u001b[0m fid_value \u001b[39m=\u001b[39m calculate_frechet_distance(m1, s1, m2, s2)\n",
      "File \u001b[0;32m/workspace/LCM/pytorch_fid2/fid_score.py:274\u001b[0m, in \u001b[0;36mcompute_statistics_of_path\u001b[0;34m(path, model, batch_size, dims, device, num_workers)\u001b[0m\n\u001b[1;32m    270\u001b[0m     path \u001b[39m=\u001b[39m pathlib\u001b[39m.\u001b[39mPath(path)\n\u001b[1;32m    271\u001b[0m     files \u001b[39m=\u001b[39m \u001b[39msorted\u001b[39m(\n\u001b[1;32m    272\u001b[0m         [file \u001b[39mfor\u001b[39;00m ext \u001b[39min\u001b[39;00m IMAGE_EXTENSIONS \u001b[39mfor\u001b[39;00m file \u001b[39min\u001b[39;00m path\u001b[39m.\u001b[39mglob(\u001b[39m\"\u001b[39m\u001b[39m*.\u001b[39m\u001b[39m{}\u001b[39;00m\u001b[39m\"\u001b[39m\u001b[39m.\u001b[39mformat(ext))]\n\u001b[1;32m    273\u001b[0m     )\n\u001b[0;32m--> 274\u001b[0m     m, s \u001b[39m=\u001b[39m calculate_activation_statistics(\n\u001b[1;32m    275\u001b[0m         files, model, batch_size, dims, device, num_workers\n\u001b[1;32m    276\u001b[0m     )\n\u001b[1;32m    278\u001b[0m \u001b[39mreturn\u001b[39;00m m, s\n",
      "File \u001b[0;32m/workspace/LCM/pytorch_fid2/fid_score.py:259\u001b[0m, in \u001b[0;36mcalculate_activation_statistics\u001b[0;34m(files, model, batch_size, dims, device, num_workers)\u001b[0m\n\u001b[1;32m    239\u001b[0m \u001b[39mdef\u001b[39;00m \u001b[39mcalculate_activation_statistics\u001b[39m(\n\u001b[1;32m    240\u001b[0m     files, model, batch_size\u001b[39m=\u001b[39m\u001b[39m50\u001b[39m, dims\u001b[39m=\u001b[39m\u001b[39m2048\u001b[39m, device\u001b[39m=\u001b[39m\u001b[39m\"\u001b[39m\u001b[39mcpu\u001b[39m\u001b[39m\"\u001b[39m, num_workers\u001b[39m=\u001b[39m\u001b[39m1\u001b[39m\n\u001b[1;32m    241\u001b[0m ):\n\u001b[1;32m    242\u001b[0m \u001b[39m    \u001b[39m\u001b[39m\"\"\"Calculation of the statistics used by the FID.\u001b[39;00m\n\u001b[1;32m    243\u001b[0m \u001b[39m    Params:\u001b[39;00m\n\u001b[1;32m    244\u001b[0m \u001b[39m    -- files       : List of image files paths\u001b[39;00m\n\u001b[0;32m   (...)\u001b[0m\n\u001b[1;32m    257\u001b[0m \u001b[39m               the inception model.\u001b[39;00m\n\u001b[1;32m    258\u001b[0m \u001b[39m    \"\"\"\u001b[39;00m\n\u001b[0;32m--> 259\u001b[0m     act \u001b[39m=\u001b[39m get_activations(files, model, batch_size, dims, device, num_workers)\n\u001b[1;32m    260\u001b[0m     mu \u001b[39m=\u001b[39m np\u001b[39m.\u001b[39mmean(act, axis\u001b[39m=\u001b[39m\u001b[39m0\u001b[39m)\n\u001b[1;32m    261\u001b[0m     sigma \u001b[39m=\u001b[39m np\u001b[39m.\u001b[39mcov(act, rowvar\u001b[39m=\u001b[39m\u001b[39mFalse\u001b[39;00m)\n",
      "File \u001b[0;32m/workspace/LCM/pytorch_fid2/fid_score.py:147\u001b[0m, in \u001b[0;36mget_activations\u001b[0;34m(files, model, batch_size, dims, device, num_workers)\u001b[0m\n\u001b[1;32m    144\u001b[0m     batch_size \u001b[39m=\u001b[39m \u001b[39mlen\u001b[39m(files)\n\u001b[1;32m    146\u001b[0m dataset \u001b[39m=\u001b[39m ImagePathDataset(files, transforms\u001b[39m=\u001b[39mTF\u001b[39m.\u001b[39mToTensor())\n\u001b[0;32m--> 147\u001b[0m dataloader \u001b[39m=\u001b[39m torch\u001b[39m.\u001b[39;49mutils\u001b[39m.\u001b[39;49mdata\u001b[39m.\u001b[39;49mDataLoader(\n\u001b[1;32m    148\u001b[0m     dataset,\n\u001b[1;32m    149\u001b[0m     batch_size\u001b[39m=\u001b[39;49mbatch_size,\n\u001b[1;32m    150\u001b[0m     shuffle\u001b[39m=\u001b[39;49m\u001b[39mFalse\u001b[39;49;00m,\n\u001b[1;32m    151\u001b[0m     drop_last\u001b[39m=\u001b[39;49m\u001b[39mFalse\u001b[39;49;00m,\n\u001b[1;32m    152\u001b[0m     num_workers\u001b[39m=\u001b[39;49mnum_workers,\n\u001b[1;32m    153\u001b[0m )\n\u001b[1;32m    155\u001b[0m pred_arr \u001b[39m=\u001b[39m np\u001b[39m.\u001b[39mempty((\u001b[39mlen\u001b[39m(files), dims))\n\u001b[1;32m    157\u001b[0m start_idx \u001b[39m=\u001b[39m \u001b[39m0\u001b[39m\n",
      "File \u001b[0;32m/workspace/miniconda/envs/llm/lib/python3.10/site-packages/torch/utils/data/dataloader.py:357\u001b[0m, in \u001b[0;36mDataLoader.__init__\u001b[0;34m(self, dataset, batch_size, shuffle, sampler, batch_sampler, num_workers, collate_fn, pin_memory, drop_last, timeout, worker_init_fn, multiprocessing_context, generator, prefetch_factor, persistent_workers, pin_memory_device)\u001b[0m\n\u001b[1;32m    353\u001b[0m             sampler \u001b[39m=\u001b[39m SequentialSampler(dataset)  \u001b[39m# type: ignore[arg-type]\u001b[39;00m\n\u001b[1;32m    355\u001b[0m \u001b[39mif\u001b[39;00m batch_size \u001b[39mis\u001b[39;00m \u001b[39mnot\u001b[39;00m \u001b[39mNone\u001b[39;00m \u001b[39mand\u001b[39;00m batch_sampler \u001b[39mis\u001b[39;00m \u001b[39mNone\u001b[39;00m:\n\u001b[1;32m    356\u001b[0m     \u001b[39m# auto_collation without custom batch_sampler\u001b[39;00m\n\u001b[0;32m--> 357\u001b[0m     batch_sampler \u001b[39m=\u001b[39m BatchSampler(sampler, batch_size, drop_last)\n\u001b[1;32m    359\u001b[0m \u001b[39mself\u001b[39m\u001b[39m.\u001b[39mbatch_size \u001b[39m=\u001b[39m batch_size\n\u001b[1;32m    360\u001b[0m \u001b[39mself\u001b[39m\u001b[39m.\u001b[39mdrop_last \u001b[39m=\u001b[39m drop_last\n",
      "File \u001b[0;32m/workspace/miniconda/envs/llm/lib/python3.10/site-packages/torch/utils/data/sampler.py:268\u001b[0m, in \u001b[0;36mBatchSampler.__init__\u001b[0;34m(self, sampler, batch_size, drop_last)\u001b[0m\n\u001b[1;32m    262\u001b[0m \u001b[39mdef\u001b[39;00m \u001b[39m__init__\u001b[39m(\u001b[39mself\u001b[39m, sampler: Union[Sampler[\u001b[39mint\u001b[39m], Iterable[\u001b[39mint\u001b[39m]], batch_size: \u001b[39mint\u001b[39m, drop_last: \u001b[39mbool\u001b[39m) \u001b[39m-\u001b[39m\u001b[39m>\u001b[39m \u001b[39mNone\u001b[39;00m:\n\u001b[1;32m    263\u001b[0m     \u001b[39m# Since collections.abc.Iterable does not check for `__getitem__`, which\u001b[39;00m\n\u001b[1;32m    264\u001b[0m     \u001b[39m# is one way for an object to be an iterable, we don't do an `isinstance`\u001b[39;00m\n\u001b[1;32m    265\u001b[0m     \u001b[39m# check here.\u001b[39;00m\n\u001b[1;32m    266\u001b[0m     \u001b[39mif\u001b[39;00m \u001b[39mnot\u001b[39;00m \u001b[39misinstance\u001b[39m(batch_size, \u001b[39mint\u001b[39m) \u001b[39mor\u001b[39;00m \u001b[39misinstance\u001b[39m(batch_size, \u001b[39mbool\u001b[39m) \u001b[39mor\u001b[39;00m \\\n\u001b[1;32m    267\u001b[0m             batch_size \u001b[39m<\u001b[39m\u001b[39m=\u001b[39m \u001b[39m0\u001b[39m:\n\u001b[0;32m--> 268\u001b[0m         \u001b[39mraise\u001b[39;00m \u001b[39mValueError\u001b[39;00m(\u001b[39mf\u001b[39m\u001b[39m\"\u001b[39m\u001b[39mbatch_size should be a positive integer value, but got batch_size=\u001b[39m\u001b[39m{\u001b[39;00mbatch_size\u001b[39m}\u001b[39;00m\u001b[39m\"\u001b[39m)\n\u001b[1;32m    269\u001b[0m     \u001b[39mif\u001b[39;00m \u001b[39mnot\u001b[39;00m \u001b[39misinstance\u001b[39m(drop_last, \u001b[39mbool\u001b[39m):\n\u001b[1;32m    270\u001b[0m         \u001b[39mraise\u001b[39;00m \u001b[39mValueError\u001b[39;00m(\u001b[39mf\u001b[39m\u001b[39m\"\u001b[39m\u001b[39mdrop_last should be a boolean value, but got drop_last=\u001b[39m\u001b[39m{\u001b[39;00mdrop_last\u001b[39m}\u001b[39;00m\u001b[39m\"\u001b[39m)\n",
      "\u001b[0;31mValueError\u001b[0m: batch_size should be a positive integer value, but got batch_size=0"
     ]
    }
   ],
   "source": [
    "paths = [\"/workspace/LCM/new/generated_image.jpg\", \"/workspace/LCM/new/real_image.jpg\"]\n",
    "dim = 2048\n",
    "device = torch.device(\"cuda\" if torch.cuda.is_available() else \"cpu\")\n",
    "fid_value = fid_score.calculate_fid_given_paths(\n",
    "        paths, batch_size=1, device=device, dims=dim, num_workers=1\n",
    "    )"
   ]
  },
  {
   "cell_type": "code",
   "execution_count": null,
   "metadata": {},
   "outputs": [],
   "source": []
  }
 ],
 "metadata": {
  "kernelspec": {
   "display_name": "llm",
   "language": "python",
   "name": "python3"
  },
  "language_info": {
   "codemirror_mode": {
    "name": "ipython",
    "version": 3
   },
   "file_extension": ".py",
   "mimetype": "text/x-python",
   "name": "python",
   "nbconvert_exporter": "python",
   "pygments_lexer": "ipython3",
   "version": "3.10.14"
  }
 },
 "nbformat": 4,
 "nbformat_minor": 2
}
