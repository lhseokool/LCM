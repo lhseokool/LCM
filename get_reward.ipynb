{
 "cells": [
  {
   "cell_type": "code",
   "execution_count": 2,
   "metadata": {},
   "outputs": [
    {
     "name": "stdout",
     "output_type": "stream",
     "text": [
      "load checkpoint from /root/.cache/ImageReward/ImageReward.pt\n",
      "checkpoint loaded\n"
     ]
    }
   ],
   "source": [
    "import ImageReward as RM\n",
    "\n",
    "model = RM.load(\"ImageReward-v1.0\")"
   ]
  },
  {
   "cell_type": "code",
   "execution_count": 3,
   "metadata": {},
   "outputs": [
    {
     "name": "stdout",
     "output_type": "stream",
     "text": [
      "loading annotations into memory...\n",
      "Done (t=0.06s)\n",
      "creating index...\n",
      "index created!\n",
      "Image Reward: -2.1859815332718195\n"
     ]
    }
   ],
   "source": [
    "import os\n",
    "import torch\n",
    "import random\n",
    "from pycocotools.coco import COCO\n",
    "\n",
    "# 1. COCO annotations 파일 로드\n",
    "def load_coco_annotations(annotation_file):\n",
    "    coco = COCO(annotation_file)\n",
    "    img_ids = coco.getImgIds()\n",
    "    img_caption_mapping = {}\n",
    "\n",
    "    for img_id in img_ids:\n",
    "        img_info = coco.loadImgs(img_id)[0]\n",
    "\n",
    "        ann_ids = coco.getAnnIds(imgIds=img_id)\n",
    "        anns = coco.loadAnns(ann_ids)\n",
    "        img_file = img_info['file_name']\n",
    "        captions = [ann['caption'] for ann in anns]\n",
    "        img_caption_mapping[img_file] = captions\n",
    "    \n",
    "    return img_caption_mapping\n",
    "\n",
    "def get_image_reward(image_dir, annotation_file, model_name):\n",
    "    # COCO 데이터셋 로드\n",
    "    img_caption_mapping = load_coco_annotations(annotation_file)\n",
    "        \n",
    "    # 각 이미지에 대해 랜덤 캡션을 사용하여 이미지 생성 및 저장\n",
    "    num_image = 0\n",
    "    reward_list = []\n",
    "    for img_file, captions in img_caption_mapping.items():\n",
    "        # 랜덤 캡션 선택\n",
    "        prompt = random.choice(captions)\n",
    "        prompt = captions[0]\n",
    "        \n",
    "        gen_image = os.path.join(model_name, f\"generated_{num_image+1}.jpg\")\n",
    "        rewards = model.score(prompt, [gen_image])\n",
    "        reward_list.append(rewards)\n",
    "    \n",
    "    print(f\"Image Reward: {sum(reward_list)/len(reward_list)}\")\n",
    "        \n",
    "# COCO annotations 파일 경로, 이미지 디렉토리, 출력 폴더 설정\n",
    "annotation_file = \"/workspace/LCM/data/annotations/captions_val2017.json\"\n",
    "image_dir = \"/workspace/LCM/data/val2017\"\n",
    "model_name = \"/workspace/LCM/generated_images/tcd-sdxl-lora_2\"\n",
    "\n",
    "\n",
    "# 이미지 생성 및 저장\n",
    "get_image_reward(image_dir, annotation_file, model_name)"
   ]
  },
  {
   "cell_type": "code",
   "execution_count": null,
   "metadata": {},
   "outputs": [],
   "source": []
  },
  {
   "cell_type": "code",
   "execution_count": null,
   "metadata": {},
   "outputs": [],
   "source": []
  }
 ],
 "metadata": {
  "kernelspec": {
   "display_name": "llm",
   "language": "python",
   "name": "python3"
  },
  "language_info": {
   "codemirror_mode": {
    "name": "ipython",
    "version": 3
   },
   "file_extension": ".py",
   "mimetype": "text/x-python",
   "name": "python",
   "nbconvert_exporter": "python",
   "pygments_lexer": "ipython3",
   "version": "3.10.14"
  }
 },
 "nbformat": 4,
 "nbformat_minor": 2
}
