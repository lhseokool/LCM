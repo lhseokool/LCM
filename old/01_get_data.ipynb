{
 "cells": [
  {
   "cell_type": "code",
   "execution_count": 1,
   "metadata": {},
   "outputs": [
    {
     "name": "stderr",
     "output_type": "stream",
     "text": [
      "/workspace/miniconda/envs/llm/lib/python3.10/site-packages/tqdm/auto.py:21: TqdmWarning: IProgress not found. Please update jupyter and ipywidgets. See https://ipywidgets.readthedocs.io/en/stable/user_install.html\n",
      "  from .autonotebook import tqdm as notebook_tqdm\n"
     ]
    },
    {
     "data": {
      "text/plain": [
       "Dataset({\n",
       "    features: ['URL', 'TEXT', 'WIDTH', 'HEIGHT', 'similarity', 'punsafe', 'pwatermark', 'AESTHETIC_SCORE', 'hash', '__index_level_0__'],\n",
       "    num_rows: 635561\n",
       "})"
      ]
     },
     "execution_count": 1,
     "metadata": {},
     "output_type": "execute_result"
    }
   ],
   "source": [
    "from datasets import load_dataset\n",
    "\n",
    "laion_datset = load_dataset(\"RobinWZQ/improved_aesthetics_6.5plus\")\n",
    "laion_datset['train']"
   ]
  },
  {
   "cell_type": "code",
   "execution_count": 5,
   "metadata": {},
   "outputs": [],
   "source": [
    "# with open(\"aesthetics_6.5plus.txt\", 'w') as f:\n",
    "with open(\"aesthetics_6.5plus_caption.txt\", 'w') as f:\n",
    "    for data in laion_datset['train']:\n",
    "        url, caption = data['URL'], data['TEXT']\n",
    "        # if \",\" in url:\n",
    "        #     print(url)\n",
    "        #     continue\n",
    "        # f.write(f\"{url}, {caption} '\\n'\")\n",
    "        f.write(caption + '\\n')"
   ]
  },
  {
   "cell_type": "code",
   "execution_count": 4,
   "metadata": {},
   "outputs": [],
   "source": [
    "from datasets import load_dataset\n",
    "import pandas as pd\n",
    "\n",
    "# Load the dataset\n",
    "laion_dataset = load_dataset(\"RobinWZQ/improved_aesthetics_6.5plus\")\n",
    "\n",
    "# Convert the Hugging Face dataset to a Pandas DataFrame\n",
    "df = pd.DataFrame(laion_dataset['train'])\n",
    "\n",
    "# Save the DataFrame to a Parquet file\n",
    "df.to_parquet('laion_dataset.parquet')"
   ]
  },
  {
   "cell_type": "code",
   "execution_count": null,
   "metadata": {},
   "outputs": [],
   "source": []
  }
 ],
 "metadata": {
  "kernelspec": {
   "display_name": "llm",
   "language": "python",
   "name": "python3"
  },
  "language_info": {
   "codemirror_mode": {
    "name": "ipython",
    "version": 3
   },
   "file_extension": ".py",
   "mimetype": "text/x-python",
   "name": "python",
   "nbconvert_exporter": "python",
   "pygments_lexer": "ipython3",
   "version": "3.10.14"
  }
 },
 "nbformat": 4,
 "nbformat_minor": 2
}
