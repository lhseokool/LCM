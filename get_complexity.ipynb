{
 "cells": [
  {
   "cell_type": "code",
   "execution_count": 6,
   "metadata": {},
   "outputs": [
    {
     "name": "stdout",
     "output_type": "stream",
     "text": [
      "5000\n"
     ]
    }
   ],
   "source": [
    "import os\n",
    "\n",
    "out_dir = \"/workspace/LCM/complexity/lcm-sdxl\"\n",
    "out_dir = \"/workspace/LCM/complexity/tcd-sdxl-lora\"\n",
    "\n",
    "result_list = [i for i in os.listdir(out_dir) if i.endswith(\"npy\")]\n",
    "\n",
    "print(len(result_list))"
   ]
  },
  {
   "cell_type": "code",
   "execution_count": 7,
   "metadata": {},
   "outputs": [
    {
     "name": "stdout",
     "output_type": "stream",
     "text": [
      "0.49849233599999915\n"
     ]
    }
   ],
   "source": [
    "score_list = []\n",
    "for i in result_list:\n",
    "    score_list.append(float(i.split(\"_\")[2].split(\".npy\")[0]))\n",
    "    \n",
    "    \n",
    "print(sum(score_list)/len(score_list))"
   ]
  },
  {
   "cell_type": "code",
   "execution_count": null,
   "metadata": {},
   "outputs": [],
   "source": []
  }
 ],
 "metadata": {
  "kernelspec": {
   "display_name": "llm",
   "language": "python",
   "name": "python3"
  },
  "language_info": {
   "codemirror_mode": {
    "name": "ipython",
    "version": 3
   },
   "file_extension": ".py",
   "mimetype": "text/x-python",
   "name": "python",
   "nbconvert_exporter": "python",
   "pygments_lexer": "ipython3",
   "version": "3.10.14"
  }
 },
 "nbformat": 4,
 "nbformat_minor": 2
}
